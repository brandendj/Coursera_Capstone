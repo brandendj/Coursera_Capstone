{
 "cells": [
  {
   "cell_type": "markdown",
   "metadata": {},
   "source": [
    "# Bagels\n",
    "### Introduction\n",
    "When McDonald's took away there breakfast bagels, I was heartbroken. There is nothing I want more in life than a sugar filled dense bread covered in hollandaise bacon and eggs. Therefore, I want to open a new bagel place in the San Fran area. I also want to be 24/7 to replace my beloved McDoanld's.\n",
    "\n",
    "\n",
    "The goal is to put every other bagel store out of business. To do that I want to build my store in the center of the other stores, and have a betterstore. I will use KMeans to find the averge location of all the stores and build my store there. \n",
    "\n",
    "Anyone who wants to open a highly competitive bagel store would be interested in the data. "
   ]
  },
  {
   "cell_type": "markdown",
   "metadata": {},
   "source": [
    "### Data\n",
    "The data needed to complete this task is the location of the other bagel or cafes in San Fran. These can be accessed through the Foursquare API. The data I call from the API will the the name of the business, as well as the latitude and longitude of the store. \n",
    "\n",
    "I have also accessed the crime data from San Fran. This was taken from previous exaples in this course."
   ]
  },
  {
   "cell_type": "markdown",
   "metadata": {},
   "source": [
    "### Methodology\n",
    "The data I collected from Foursquare was the loction, name and type of the bagel and coffee shops around San Fran. I used a radius of two kilometers centered on 37.7749 and -122.4194. Calling the Foursquare API resulted in 900 results.\n",
    "\n",
    "I plotted the cafe and bagel locations using a folium map. However, upon looking at the map I realized that there were only 30 points. I went back and looked into the results of the API called and found that there were a large number of duplicated. I reduced the results dataframe by called the drop duplicates function, reducing the total number to 30 and replotted them on a map. \n",
    "\n",
    "I then used KMeans, with a k value of 1, to find the average of all the bagel shops. Calling the cluster centers function allowed me to find the local minimum for distance to every point. I did this because KMeans is an effective and efficient method of finding this information. \n",
    "\n",
    "I have included the crime rates for the city as well. These were taken from a previous excersize in this course. I reduced the data untill I had a neighbourhood and count, then overlaid that onto a map with the bagel stores."
   ]
  },
  {
   "cell_type": "markdown",
   "metadata": {},
   "source": [
    "### Results\n",
    "Through the use of KMeans I have found the most competeive location to be 37.77434236842065, -122.4194727854517, or right on top of San Fran Honda. A great loction for them. \n",
    "\n",
    "Unfortunately the potential place falls in the highest crime rate area."
   ]
  },
  {
   "cell_type": "markdown",
   "metadata": {},
   "source": [
    "### Discussion\n",
    "Looking at the nearest neighbours to the optium location, there seems to be quite a difference between the choosen location of the bagel store and the competitors. By chance, the location is placed at the corner of two main roads, making it a prime location for any business. \n",
    "\n",
    "If I were to improve upon this model, I could include a meausure of foot track, either by population density or by amount of poeple who work in the area. \n",
    "Another aspect to consider in running a 24 hour business is crime rates. Unfortunaetly the potential location is in the highestes crime rate area, but on the border. It may be safe to assume that the actual location may belong to a lower crime rate area, but that cannot be conculded from this data. "
   ]
  },
  {
   "cell_type": "markdown",
   "metadata": {},
   "source": [
    "### Conslusion\n",
    "Opening up a competitive bagel shop isn't easy. However, the information gathered in this report will make you location the best location. This model doesn't have to be only used for bagel shops, it can be editted and used for any business type and location.\n",
    "\n",
    "The model predicted the best location to open a bagel shpop in the San Fran area is at 37.77434236842065, -122.4194727854517. "
   ]
  }
 ],
 "metadata": {
  "kernelspec": {
   "display_name": "Python 3",
   "language": "python",
   "name": "python3"
  },
  "language_info": {
   "codemirror_mode": {
    "name": "ipython",
    "version": 3
   },
   "file_extension": ".py",
   "mimetype": "text/x-python",
   "name": "python",
   "nbconvert_exporter": "python",
   "pygments_lexer": "ipython3",
   "version": "3.7.0"
  }
 },
 "nbformat": 4,
 "nbformat_minor": 2
}
